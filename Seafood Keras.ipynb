{
 "cells": [
  {
   "attachments": {},
   "cell_type": "markdown",
   "metadata": {},
   "source": [
    "# Seafood (HOTDOG OR NOT A HOTDOG)"
   ]
  },
  {
   "cell_type": "code",
   "execution_count": 40,
   "metadata": {},
   "outputs": [],
   "source": [
    "from PIL import Image\n",
    "from matplotlib.pyplot import imshow\n",
    "from os import listdir\n",
    "from os.path import isfile, join\n",
    "from keras import layers\n",
    "from keras.layers import Input, Dense, Activation, ZeroPadding2D, Flatten, Conv2D\n",
    "from keras.layers import MaxPooling2D, Dropout\n",
    "from keras.models import Model\n",
    "import os\n",
    "import numpy as np\n",
    "import matplotlib.pyplot as plt"
   ]
  },
  {
   "cell_type": "markdown",
   "metadata": {},
   "source": [
    "# Image preprocessing for feeding into model\n",
    "Using PIL image library\n",
    "1.Image to array conversion\n",
    "2.Array image reshaping in 64pixels shape(64*64*3)\n",
    "3.Stacking the image"
   ]
  },
  {
   "cell_type": "code",
   "execution_count": 41,
   "metadata": {},
   "outputs": [],
   "source": [
    "def get_image(file_name):\n",
    "    im=Image.open(file_name)\n",
    "    return im.resize((64,64),Image.ANTIALIAS)\n",
    "def get_image_folder_list(folder_name):\n",
    "    return [f for f in listdir(folder_name) if isfile(join(folder_name,f))]\n",
    "def gettin_array(folder):\n",
    "    image_list=get_image_folder_list(folder)\n",
    "    m=[]   \n",
    "    for i in image_list:\n",
    "        k=np.array(get_image(folder+i))\n",
    "     \n",
    "        m.append(k[np.newaxis:,])\n",
    "    return m                      "
   ]
  },
  {
   "cell_type": "code",
   "execution_count": 42,
   "metadata": {},
   "outputs": [
    {
     "name": "stdout",
     "output_type": "stream",
     "text": [
      "(929, 64, 64, 3)\n",
      "(929, 1)\n",
      "(69, 64, 64, 3)\n"
     ]
    }
   ],
   "source": [
    "train_hotdog = np.array(gettin_array(\"/home/pranav/Downloads/train/hot_dog/\"))\n",
    "train_nothotdog = np.array(gettin_array(\"/home/pranav/Downloads/train/not_hot_dog/\"))\n",
    "Trainreal=np.concatenate((train_hotdog,train_nothotdog),axis=0)\n",
    "Trainreal_ = Trainreal/255\n",
    "print (Trainreal.shape)\n",
    "Y_hotdog = np.ones((train_hotdog.shape[0],1))\n",
    "Y_nothotdog = np.zeros((train_nothotdog.shape[0],1))\n",
    "\n",
    "Yrealtrain = np.concatenate((Y_hotdog,Y_nothotdog),axis = 0)\n",
    "print (Yrealtrain.shape)\n",
    "Xtesthot_dog = np.array(gettin_array(\"/home/pranav/Downloads/test/hot_dog/\"))\n",
    "Xtestnothot_dog = np.array(gettin_array(\"/home/pranav/Downloads/test/not_hot_dog/\"))\n",
    "Testreal=np.concatenate((Xtesthot_dog,Xtestnothot_dog),axis=0)\n",
    "print (Testreal.shape)\n",
    "Y_hotdogtest = np.ones((Xtesthot_dog.shape[0],1))\n",
    "Y_nothotdogtest = np.zeros((Xtestnothot_dog.shape[0],1))\n",
    "Yrealtest = np.concatenate((Y_hotdogtest,Y_nothotdogtest),axis = 0)\n",
    "\n"
   ]
  },
  {
   "cell_type": "markdown",
   "metadata": {},
   "source": [
    "# CNN model in Keras\n",
    "One Relu activation for one CNN layer and sigmoid activation for final layer \n",
    "3 steps involved in keras implementation \n",
    "1.Create the model\n",
    "2.Compile the model by calling model.compile() function \n",
    "3.Run the model using model.fit() function"
   ]
  },
  {
   "cell_type": "code",
   "execution_count": 43,
   "metadata": {},
   "outputs": [],
   "source": [
    "def Model_seafood(shape_train):\n",
    "    X_input = Input(shape_train)\n",
    "    X = ZeroPadding2D((3, 3))(X_input)\n",
    "    X = Conv2D(32, (7, 7), strides = (1, 1), name = 'conv0')(X)\n",
    "    X =  Dropout(.6, noise_shape=None, seed=None)(X)\n",
    "    X = Activation('relu')(X)\n",
    "    X = MaxPooling2D((2, 2), name='max_pool')(X)\n",
    "    X = Flatten()(X)\n",
    "    X = Dense(1, activation='sigmoid', name='fc')(X)\n",
    "    model = Model(inputs = X_input, outputs = X, name='Model_seafood')\n",
    "    return model"
   ]
  },
  {
   "cell_type": "code",
   "execution_count": 44,
   "metadata": {},
   "outputs": [],
   "source": [
    "seafoodModel = Model_seafood(Trainreal_[1].shape)"
   ]
  },
  {
   "cell_type": "code",
   "execution_count": 45,
   "metadata": {},
   "outputs": [],
   "source": [
    "seafoodModel.compile(optimizer = \"Adam\",loss=\"binary_crossentropy\",metrics=[\"accuracy\"])\n"
   ]
  },
  {
   "cell_type": "code",
   "execution_count": 49,
   "metadata": {},
   "outputs": [
    {
     "name": "stdout",
     "output_type": "stream",
     "text": [
      "Epoch 1/10\n",
      "929/929 [==============================] - 7s 8ms/step - loss: 0.0488 - acc: 0.9903\n",
      "Epoch 2/10\n",
      "929/929 [==============================] - 7s 8ms/step - loss: 0.0362 - acc: 0.9935\n",
      "Epoch 3/10\n",
      "929/929 [==============================] - 7s 8ms/step - loss: 0.0329 - acc: 0.9978\n",
      "Epoch 4/10\n",
      "929/929 [==============================] - 7s 8ms/step - loss: 0.0297 - acc: 1.0000\n",
      "Epoch 5/10\n",
      "929/929 [==============================] - 7s 8ms/step - loss: 0.0217 - acc: 0.9989\n",
      "Epoch 6/10\n",
      "929/929 [==============================] - 7s 8ms/step - loss: 0.0214 - acc: 0.9989\n",
      "Epoch 7/10\n",
      "929/929 [==============================] - 7s 8ms/step - loss: 0.0586 - acc: 0.9785\n",
      "Epoch 8/10\n",
      "929/929 [==============================] - 7s 8ms/step - loss: 0.0413 - acc: 0.9935\n",
      "Epoch 9/10\n",
      "929/929 [==============================] - 7s 8ms/step - loss: 0.0231 - acc: 0.9989\n",
      "Epoch 10/10\n",
      "929/929 [==============================] - 7s 8ms/step - loss: 0.0231 - acc: 0.9978\n"
     ]
    },
    {
     "data": {
      "text/plain": [
       "<keras.callbacks.History at 0x7f2bf71fe5f8>"
      ]
     },
     "execution_count": 49,
     "metadata": {},
     "output_type": "execute_result"
    }
   ],
   "source": [
    "seafoodModel.fit(x=Trainreal_,y=Yrealtrain,epochs = 10,batch_size = 32 )\n"
   ]
  },
  {
   "cell_type": "code",
   "execution_count": 50,
   "metadata": {},
   "outputs": [
    {
     "name": "stdout",
     "output_type": "stream",
     "text": [
      "69/69 [==============================] - 0s 4ms/step\n"
     ]
    },
    {
     "data": {
      "text/plain": [
       "[3.9532992943473486, 0.7536231892696326]"
      ]
     },
     "execution_count": 50,
     "metadata": {},
     "output_type": "execute_result"
    }
   ],
   "source": [
    "seafoodModel.evaluate(x=Testreal,y=Yrealtest, batch_size=32, verbose=1)"
   ]
  },
  {
   "cell_type": "code",
   "execution_count": 51,
   "metadata": {},
   "outputs": [
    {
     "name": "stdout",
     "output_type": "stream",
     "text": [
      "(1, 64, 64, 3)\n",
      "this is hot_dog\n"
     ]
    },
    {
     "data": {
      "image/png": "[encoded data removed]",
      "text/plain": [
       "<Figure size 432x288 with 1 Axes>"
      ]
     },
     "metadata": {},
     "output_type": "display_data"
    }
   ],
   "source": [
    "any_im = Trainreal[np.random.randint(len(Trainreal))]\n",
    "plt.imshow(any_im)\n",
    "any_im = np.expand_dims(any_im, axis=0)\n",
    "print (any_im.shape)\n",
    "valpred = seafoodModel.predict(x=any_im)\n",
    "if valpred==1:\n",
    "    print (\"this is hot_dog\")\n",
    "elif valpred==0:\n",
    "    print (\"this is not hot_dog\")"
   ]
  }
 ],
 "metadata": {
  "kernelspec": {
   "display_name": "Python 3",
   "language": "python",
   "name": "python3"
  },
  "language_info": {
   "codemirror_mode": {
    "name": "ipython",
    "version": 3
   },
   "file_extension": ".py",
   "mimetype": "text/x-python",
   "name": "python",
   "nbconvert_exporter": "python",
   "pygments_lexer": "ipython3",
   "version": "3.6.5"
  }
 },
 "nbformat": 4,
 "nbformat_minor": 2
}
